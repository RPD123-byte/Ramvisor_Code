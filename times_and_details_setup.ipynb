{
 "cells": [
  {
   "cell_type": "code",
   "execution_count": 1,
   "metadata": {},
   "outputs": [],
   "source": [
    "import fitz  # PyMuPDF\n",
    "\n",
    "def extract_and_format_classes(pdf_path, output_txt_path):\n",
    "    # Open the PDF\n",
    "    doc = fitz.open(pdf_path)\n",
    "    class_blocks = []  # List to hold each class's information block\n",
    "    current_block = []  # Temporarily stores lines for the current class info block\n",
    "\n",
    "    for page in doc:  # Iterate through each page\n",
    "        text = page.get_text(\"text\")  # Extract text\n",
    "        lines = text.split('\\n')  # Split text into lines\n",
    "        \n",
    "        for line in lines:\n",
    "            if line.strip('_') == '':  # Checks if line is entirely underscores (class separator)\n",
    "                if current_block:  # If there's accumulated info, start a new block\n",
    "                    class_blocks.append(' '.join(current_block))\n",
    "                    current_block = []  # Reset for the next block\n",
    "            else:\n",
    "                current_block.append(line)  # Accumulate lines for the current class info block\n",
    "        \n",
    "        # Ensure the last block is added\n",
    "        if current_block:\n",
    "            class_blocks.append(' '.join(current_block))\n",
    "\n",
    "    # Write the formatted class information to the output file\n",
    "    with open(output_txt_path, 'w', encoding='utf-8') as f:\n",
    "        for block in class_blocks:\n",
    "            # Here you can further format each block if needed before writing\n",
    "            f.write(block + '\\n\\n')\n",
    "\n",
    "# File paths\n",
    "pdf_path = \"times.pdf\"  # Update this to your actual PDF file path\n",
    "output_txt_path = \"formatted_classes_info.txt\"\n",
    "\n",
    "# Extract and format class info\n",
    "extract_and_format_classes(pdf_path, output_txt_path)\n"
   ]
  },
  {
   "cell_type": "code",
   "execution_count": 4,
   "metadata": {},
   "outputs": [
    {
     "name": "stdout",
     "output_type": "stream",
     "text": [
      "Lines have been removed from formatted_classes_info.txt.\n"
     ]
    }
   ],
   "source": [
    "def remove_lines_starting_with_prefix(file_path):\n",
    "    # Read the original content of the file\n",
    "    with open(file_path, 'r', encoding='utf-8') as file:\n",
    "        lines = file.readlines()\n",
    "\n",
    "    # Filter out lines that start with the specified prefix\n",
    "    filtered_lines = [line for line in lines if not line.startswith('Report ID: ') and not line.startswith(\"Attributes:\") and not line.startswith(\"GR1 Attributes:\")]\n",
    "\n",
    "    # Overwrite the file with the filtered content\n",
    "    with open(file_path, 'w', encoding='utf-8') as file:\n",
    "        file.writelines(filtered_lines)\n",
    "\n",
    "    print(f\"Lines have been removed from {file_path}.\")\n",
    "\n",
    "# Usage\n",
    "file_path = 'formatted_classes_info.txt'  # Update this to your actual text file path\n",
    "remove_lines_starting_with_prefix(file_path)\n"
   ]
  }
 ],
 "metadata": {
  "kernelspec": {
   "display_name": "ramvisor",
   "language": "python",
   "name": "python3"
  },
  "language_info": {
   "codemirror_mode": {
    "name": "ipython",
    "version": 3
   },
   "file_extension": ".py",
   "mimetype": "text/x-python",
   "name": "python",
   "nbconvert_exporter": "python",
   "pygments_lexer": "ipython3",
   "version": "3.11.5"
  }
 },
 "nbformat": 4,
 "nbformat_minor": 2
}
